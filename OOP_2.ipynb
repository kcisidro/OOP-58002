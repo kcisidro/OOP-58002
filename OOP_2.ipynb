{
  "nbformat": 4,
  "nbformat_minor": 0,
  "metadata": {
    "colab": {
      "name": "OOP-2.ipynb",
      "provenance": [],
      "authorship_tag": "ABX9TyNcm9Aj5FJD4evAEod/63xP",
      "include_colab_link": true
    },
    "kernelspec": {
      "name": "python3",
      "display_name": "Python 3"
    },
    "language_info": {
      "name": "python"
    }
  },
  "cells": [
    {
      "cell_type": "markdown",
      "metadata": {
        "id": "view-in-github",
        "colab_type": "text"
      },
      "source": [
        "<a href=\"https://colab.research.google.com/github/kcisidro/OOP-58002/blob/main/OOP_2.ipynb\" target=\"_parent\"><img src=\"https://colab.research.google.com/assets/colab-badge.svg\" alt=\"Open In Colab\"/></a>"
      ]
    },
    {
      "cell_type": "markdown",
      "source": [
        "Classes with Multiple Objects"
      ],
      "metadata": {
        "id": "y0VTzUv3VDo7"
      }
    },
    {
      "cell_type": "code",
      "source": [
        "class Birds:\n",
        "  def __init__(self, bird_name):\n",
        "    self.bird_name = bird_name\n",
        "\n",
        "  def flying_birds(self):\n",
        "    print(f\"{self.bird_name} flies above clouds\")\n",
        "    \n",
        "  def non_flying_birds(self):\n",
        "     print(f\"{self.bird_name} is the national bird of the Philippines\")\n",
        "\n",
        "vulture = Birds(\"Griffon Vulture\")\n",
        "crane = Birds(\"Common Crane\")\n",
        "emu = Birds(\"Emu\")\n",
        "\n",
        "vulture.flying_birds()\n",
        "crane.flying_birds()\n",
        "emu.non_flying_birds()"
      ],
      "metadata": {
        "colab": {
          "base_uri": "https://localhost:8080/"
        },
        "id": "K5gGRU48VH-k",
        "outputId": "2fa56c8c-d348-4dc1-e0da-854bc52ece01"
      },
      "execution_count": 34,
      "outputs": [
        {
          "output_type": "stream",
          "name": "stdout",
          "text": [
            "Griffon Vulture flies above clouds\n",
            "Common Crane flies above clouds\n",
            "Emu is the national bird of the Philippines\n"
          ]
        }
      ]
    },
    {
      "cell_type": "markdown",
      "source": [
        "Encapsulation"
      ],
      "metadata": {
        "id": "8N5Gx7uiJmIx"
      }
    },
    {
      "cell_type": "code",
      "source": [
        "class foo:\n",
        "  def __init__(self,a,b):\n",
        "    self._a = a\n",
        "    self._b = b\n",
        "\n",
        "  def add(self):\n",
        "    return self._a + self._b\n",
        "  def sub(self):\n",
        "    return self._a - self._b\n",
        "foo_object = foo(3,4)\n",
        "\n",
        "foo_object._b = 5 \n",
        "#print(foo_object.b)\n",
        "print(foo_object.add()) #adding a and b\n",
        "print(foo_object.sub()) #subtracting a and b"
      ],
      "metadata": {
        "colab": {
          "base_uri": "https://localhost:8080/"
        },
        "id": "7YibxftMJxck",
        "outputId": "3b9ccb68-6517-48a5-fa6d-5285bbcd6469"
      },
      "execution_count": 37,
      "outputs": [
        {
          "output_type": "stream",
          "name": "stdout",
          "text": [
            "8\n",
            "-2\n"
          ]
        }
      ]
    },
    {
      "cell_type": "markdown",
      "source": [
        "Inheritance"
      ],
      "metadata": {
        "id": "_BTPF026Lx_x"
      }
    },
    {
      "cell_type": "code",
      "source": [
        "class Person:\n",
        "  def __init__(self,firstname,surname):\n",
        "    self.firstname = firstname\n",
        "    self.surname = surname\n",
        "\n",
        "  def printname(self):\n",
        "    print(self.firstname, self.surname)\n",
        "\n",
        "person = Person(\"Mam\", \"Sayo\")\n",
        "person.printname()\n",
        "\n",
        "class Student(Person):\n",
        "  pass\n",
        "\n",
        "person = Student(\"Ashley\", \"Goce\")\n",
        "person.printname()"
      ],
      "metadata": {
        "colab": {
          "base_uri": "https://localhost:8080/"
        },
        "id": "Y4dmAtP5Lzkj",
        "outputId": "91566afd-bd2d-4ad3-a78f-3964caad63bb"
      },
      "execution_count": 39,
      "outputs": [
        {
          "output_type": "stream",
          "name": "stdout",
          "text": [
            "Mam Sayo\n",
            "Ashley Goce\n"
          ]
        }
      ]
    },
    {
      "cell_type": "markdown",
      "source": [
        "#Application 1"
      ],
      "metadata": {
        "id": "1s5RnuukMyf9"
      }
    },
    {
      "cell_type": "markdown",
      "source": [
        "#Class with Multiple Objects Application\n",
        "\n",
        "-Create a Python program that displays the name of 3 students (Student 1, Student 2, Student 3) and their grades\n",
        "\n",
        "-Create a class name \"Person\" and attributes - std1, std2, std3, pre, mid, fin\n",
        "\n",
        "-Compute for the average grade of each term using Grade() method\n",
        "\n",
        "-Information about student's grades must be hidden from others\n"
      ],
      "metadata": {
        "id": "pU2tWK0GNAek"
      }
    },
    {
      "cell_type": "code",
      "source": [
        "import random\n",
        "\n",
        "class Person:\n",
        "  def __init__ (self, student, pre, mid, fin):\n",
        "    self.student = student\n",
        "    self.pre = pre *0.30\n",
        "    self.mid = mid *0.30\n",
        "    self.fin = fin *0.40\n",
        "\n",
        "  def Grade(self):\n",
        "    print (self.student, \"has an average grade of\", self.pre, \"in prelims,\",  self.mid, \"in midterms, and\",  self.fin, \"in finals\")\n",
        "\n",
        "\n",
        "std1 = Person (\"Franczescka Nicole\", random.randint(85,98), random.randint(89,99), random.randint(91,99))\n",
        "std2 = Person (\"Mara Maxine\", random.randint(90,97), random.randint(92,98), random.randint(95,99))\n",
        "std3 = Person (\"Jawn Troie\", random.randint(78,99), random.randint(80,99), random.randint(85,99))\n",
        "\n",
        "std1.Grade()\n",
        "std2.Grade()\n",
        "std3.Grade()"
      ],
      "metadata": {
        "colab": {
          "base_uri": "https://localhost:8080/"
        },
        "id": "UvaquCgYSqNV",
        "outputId": "2afc8ae1-d5c4-4abb-b9c8-71b554e0be49"
      },
      "execution_count": 56,
      "outputs": [
        {
          "output_type": "stream",
          "name": "stdout",
          "text": [
            "Franczescka Nicole has an average grade of 29.099999999999998 in prelims, 29.099999999999998 in midterms, and 38.0 in finals\n",
            "Mara Maxine has an average grade of 28.2 in prelims, 29.099999999999998 in midterms, and 38.800000000000004 in finals\n",
            "Jawn Troie has an average grade of 27.0 in prelims, 29.4 in midterms, and 37.6 in finals\n"
          ]
        }
      ]
    }
  ]
}