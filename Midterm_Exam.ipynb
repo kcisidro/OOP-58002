{
  "nbformat": 4,
  "nbformat_minor": 0,
  "metadata": {
    "colab": {
      "name": "Midterm Exam",
      "provenance": [],
      "authorship_tag": "ABX9TyNQCYY7OQOJtnRw/fQqY+tK",
      "include_colab_link": true
    },
    "kernelspec": {
      "name": "python3",
      "display_name": "Python 3"
    },
    "language_info": {
      "name": "python"
    }
  },
  "cells": [
    {
      "cell_type": "markdown",
      "metadata": {
        "id": "view-in-github",
        "colab_type": "text"
      },
      "source": [
        "<a href=\"https://colab.research.google.com/github/kcisidro/OOP-58002/blob/main/Midterm_Exam.ipynb\" target=\"_parent\"><img src=\"https://colab.research.google.com/assets/colab-badge.svg\" alt=\"Open In Colab\"/></a>"
      ]
    },
    {
      "cell_type": "markdown",
      "source": [
        "#Program 1: Modify the program below by adding two conversion methods - Fahrenheit to Celsius and Kelvin to Celsius (50 points)\n",
        "\n"
      ],
      "metadata": {
        "id": "TOGw_V1TfIBH"
      }
    },
    {
      "cell_type": "code",
      "source": [
        "class TemperatureConversion:\n",
        "  def __init__(self, temp=1):\n",
        "    self.temp = temp\n",
        "class FahrenheitToCelcius (TemperatureConversion) :\n",
        "  def conversion (self):\n",
        "    return (self. temp- 32) * 5/9\n",
        "class KelvinToCelsius (TemperatureConversion) :\n",
        "  def conversion(self):\n",
        "    return self. temp - 273.15\n",
        "class CelsiusToFahrenheit(TemperatureConversion):\n",
        "  def conversion(self):\n",
        "    return (self. temp * 9) / 5 + 32\n",
        "class CelsiusToKelvin(TemperatureConversion):\n",
        "  def conversion (self):\n",
        "    return self. temp + 273.15\n",
        "\n",
        "tempInCelsius = int (input (\"Enter the temperature in Celsius: \"))\n",
        "tempInKelvin = int (input (\"Enter the temperature in Kelvin:'\"))\n",
        "tempInFahrenheit = int (input(\"Enter the temperature in Fahrenheit: \"))\n",
        "\n",
        "convert = FahrenheitToCelcius(tempInFahrenheit)\n",
        "\n",
        "print(str(convert.conversion())+ \" Fahrenheit to Celcius\")\n",
        "\n",
        "convert = KelvinToCelsius(tempInKelvin)\n",
        "\n",
        "print(str(convert.conversion())+ \" Kelvin to Celcius\")\n",
        "\n",
        "convert = CelsiusToKelvin(tempInCelsius)\n",
        "\n",
        "print (str(convert.conversion()) + \" Celsius to Kelvin\")\n",
        "\n",
        "convert = CelsiusToFahrenheit(tempInCelsius)\n",
        "\n",
        "print (str(convert.conversion()) + \" Celsius to Fahrenheit\")\n"
      ],
      "metadata": {
        "colab": {
          "base_uri": "https://localhost:8080/"
        },
        "id": "WgP90JQbfKYU",
        "outputId": "f6d74d41-b552-4a97-c6ce-961ee0621b24"
      },
      "execution_count": 4,
      "outputs": [
        {
          "output_type": "stream",
          "name": "stdout",
          "text": [
            "Enter the temperature in Celsius: 45\n",
            "Enter the temperature in Kelvin:'81\n",
            "Enter the temperature in Fahrenheit: 120\n",
            "48.888888888888886 Fahrenheit to Celcius\n",
            "-192.14999999999998 Kelvin to Celcius\n",
            "318.15 Celsius to Kelvin\n",
            "113.0 Celsius to Fahrenheit\n"
          ]
        }
      ]
    }
  ]
}