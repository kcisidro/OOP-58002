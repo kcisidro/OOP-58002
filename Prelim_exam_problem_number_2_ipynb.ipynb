{
  "nbformat": 4,
  "nbformat_minor": 0,
  "metadata": {
    "colab": {
      "name": "Prelim exam problem number 2 ipynb",
      "provenance": [],
      "authorship_tag": "ABX9TyMTmeMKtthDtZl6raODhxSu",
      "include_colab_link": true
    },
    "kernelspec": {
      "name": "python3",
      "display_name": "Python 3"
    },
    "language_info": {
      "name": "python"
    }
  },
  "cells": [
    {
      "cell_type": "markdown",
      "metadata": {
        "id": "view-in-github",
        "colab_type": "text"
      },
      "source": [
        "<a href=\"https://colab.research.google.com/github/kcisidro/OOP-58002/blob/main/Prelim_exam_problem_number_2_ipynb.ipynb\" target=\"_parent\"><img src=\"https://colab.research.google.com/assets/colab-badge.svg\" alt=\"Open In Colab\"/></a>"
      ]
    },
    {
      "cell_type": "markdown",
      "source": [
        "#Problem 2"
      ],
      "metadata": {
        "id": "9ZLruB09GWKT"
      }
    },
    {
      "cell_type": "markdown",
      "source": [
        "\n",
        "-Write a Python to display your full name, student number, age, and course\n",
        "\n",
        "-Create a class named Student with attributes: Name, Student_No, Age, School, and Course\n",
        "\n",
        "-Create an object name Myself and assign an instance for each attribute.\n",
        "\n",
        "-Create a method Self () using an instantiation of a class.\n",
        "\n",
        "-Insert your GitHub link \"Prelim Exam\" from your repository named \"OOP 58001\""
      ],
      "metadata": {
        "id": "rH4QqWvQUNCF"
      }
    },
    {
      "cell_type": "code",
      "execution_count": 44,
      "metadata": {
        "colab": {
          "base_uri": "https://localhost:8080/"
        },
        "id": "zDUaOxa-GOM2",
        "outputId": "9780f048-39f6-4b7f-b8eb-24119358b57c"
      },
      "outputs": [
        {
          "output_type": "stream",
          "name": "stdout",
          "text": [
            "my name is Isidro, Kassandra Claudette P. and i am 19 years old, Im from Adamson University and my course is BS Computer Engineering my student number is 202112281\n"
          ]
        }
      ],
      "source": [
        "class Student:\n",
        "  def __init__(self, name, number, age, course, school):\n",
        "      self.name = name\n",
        "      self.number = number\n",
        "      self.age = age\n",
        "      self.course = course\n",
        "      self.school = school\n",
        "\n",
        "  def myself(self):\n",
        "    print(\"my name is\", self.name, \"and i am\" , self.age,  \"years old, Im from\", self.school, \"and my course is\", self.course, \"my student number is\", self.number)\n",
        "     \n",
        "chogs1 = Student(\"Isidro, Kassandra Claudette P.\" , \"202112281\" , \"19\" , \"BS Computer Engineering\" , \"Adamson University\")\n",
        "chogs1.myself()"
      ]
    }
  ]
}