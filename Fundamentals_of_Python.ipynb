{
  "nbformat": 4,
  "nbformat_minor": 0,
  "metadata": {
    "colab": {
      "name": "Fundamentals of Phython",
      "provenance": [],
      "collapsed_sections": [],
      "authorship_tag": "ABX9TyPNsXPvyyRati7POTER74Jf",
      "include_colab_link": true
    },
    "kernelspec": {
      "name": "python3",
      "display_name": "Python 3"
    },
    "language_info": {
      "name": "python"
    }
  },
  "cells": [
    {
      "cell_type": "markdown",
      "metadata": {
        "id": "view-in-github",
        "colab_type": "text"
      },
      "source": [
        "<a href=\"https://colab.research.google.com/github/kcisidro/OOP-58002/blob/main/Fundamentals_of_Python.ipynb\" target=\"_parent\"><img src=\"https://colab.research.google.com/assets/colab-badge.svg\" alt=\"Open In Colab\"/></a>"
      ]
    },
    {
      "cell_type": "markdown",
      "source": [
        "#Fundamentals of Python\n"
      ],
      "metadata": {
        "id": "dmrq9RkwJKSf"
      }
    },
    {
      "cell_type": "markdown",
      "source": [
        "Python Indentation"
      ],
      "metadata": {
        "id": "L7rumpqQJoAu"
      }
    },
    {
      "cell_type": "code",
      "source": [
        "if 5>2:\n",
        " print(\"Yes\")"
      ],
      "metadata": {
        "colab": {
          "base_uri": "https://localhost:8080/"
        },
        "id": "a63yzUc4JlMG",
        "outputId": "89ab3285-30f2-4e77-b7bd-3ba0ea98e234"
      },
      "execution_count": null,
      "outputs": [
        {
          "output_type": "stream",
          "name": "stdout",
          "text": [
            "Yes\n"
          ]
        }
      ]
    },
    {
      "cell_type": "markdown",
      "source": [
        "Python Comment"
      ],
      "metadata": {
        "id": "vqoFaoAIKJyn"
      }
    },
    {
      "cell_type": "code",
      "source": [
        "#This is a comment\n",
        "print(\"Hello, World\")"
      ],
      "metadata": {
        "colab": {
          "base_uri": "https://localhost:8080/"
        },
        "id": "oitl-RvjKMt9",
        "outputId": "36509b3a-fa3f-4da4-bcf8-120deceb6f16"
      },
      "execution_count": null,
      "outputs": [
        {
          "output_type": "stream",
          "name": "stdout",
          "text": [
            "Hello, World\n"
          ]
        }
      ]
    },
    {
      "cell_type": "markdown",
      "source": [
        "Python variable"
      ],
      "metadata": {
        "id": "1fBVwzTfLPJ-"
      }
    },
    {
      "cell_type": "code",
      "source": [
        "x = \"sally\"\n",
        "\n",
        "a=0\n",
        "a,b,c=0,1,2\n",
        "\n",
        "print(x)\n",
        "print(a)\n",
        "print(b)\n",
        "print(c)\n",
        "print(a,b,c)"
      ],
      "metadata": {
        "colab": {
          "base_uri": "https://localhost:8080/"
        },
        "id": "pJT_Q-JsLSwm",
        "outputId": "ffc98c51-62a7-4d86-fbc2-f9facd388a7c"
      },
      "execution_count": null,
      "outputs": [
        {
          "output_type": "stream",
          "name": "stdout",
          "text": [
            "sally\n",
            "0\n",
            "1\n",
            "2\n",
            "0 1 2\n"
          ]
        }
      ]
    },
    {
      "cell_type": "markdown",
      "source": [
        "Casting"
      ],
      "metadata": {
        "id": "5JbbZy87LvHW"
      }
    },
    {
      "cell_type": "code",
      "source": [
        "d = 4\n",
        "d= int(4)\n",
        "print(d)"
      ],
      "metadata": {
        "colab": {
          "base_uri": "https://localhost:8080/"
        },
        "id": "NwA5VMf5LwjN",
        "outputId": "962072c9-b571-4a1c-8b7a-5b3e5fc994c6"
      },
      "execution_count": null,
      "outputs": [
        {
          "output_type": "stream",
          "name": "stdout",
          "text": [
            "4\n"
          ]
        }
      ]
    },
    {
      "cell_type": "markdown",
      "source": [
        "Type () Function"
      ],
      "metadata": {
        "id": "mae2fKnjL8j9"
      }
    },
    {
      "cell_type": "code",
      "source": [
        "d = 4\n",
        "d= int(4)\n",
        "print(type(d))"
      ],
      "metadata": {
        "colab": {
          "base_uri": "https://localhost:8080/"
        },
        "id": "aCJycKGTL-Dr",
        "outputId": "ada1f54f-72ab-49dc-f789-00a18135f5e8"
      },
      "execution_count": null,
      "outputs": [
        {
          "output_type": "stream",
          "name": "stdout",
          "text": [
            "<class 'int'>\n"
          ]
        }
      ]
    },
    {
      "cell_type": "markdown",
      "source": [
        "Double quotes and single quotes"
      ],
      "metadata": {
        "id": "fgru-ZlgMfjd"
      }
    },
    {
      "cell_type": "code",
      "source": [
        "#y=\"Ana\"\n",
        "#print(y)\n",
        "\n",
        "Y= 'Ana'\n",
        "y= 'Robert'\n",
        "print(y)\n",
        "print(Y)\n"
      ],
      "metadata": {
        "colab": {
          "base_uri": "https://localhost:8080/"
        },
        "id": "4dhdnLbeMe99",
        "outputId": "66389298-d87a-48cf-b144-9fb3e5c88088"
      },
      "execution_count": null,
      "outputs": [
        {
          "output_type": "stream",
          "name": "stdout",
          "text": [
            "Robert\n",
            "Ana\n"
          ]
        }
      ]
    },
    {
      "cell_type": "markdown",
      "source": [
        "*Multiple* Variables"
      ],
      "metadata": {
        "id": "rQ88Ct81NMtk"
      }
    },
    {
      "cell_type": "code",
      "source": [
        "#x='Tony'\n",
        "k=l=m=\"four\"\n",
        "print(k)\n",
        "print(l)\n",
        "print(m)\n",
        "print(k,l,m)"
      ],
      "metadata": {
        "colab": {
          "base_uri": "https://localhost:8080/"
        },
        "id": "H_gd_WGdNO-4",
        "outputId": "801145ff-8a14-4f1c-c29c-774731b6fc8b"
      },
      "execution_count": null,
      "outputs": [
        {
          "output_type": "stream",
          "name": "stdout",
          "text": [
            "four\n",
            "four\n",
            "four\n",
            "four four four\n"
          ]
        }
      ]
    },
    {
      "cell_type": "markdown",
      "source": [
        "Output Variable"
      ],
      "metadata": {
        "id": "4dWFh451OQLc"
      }
    },
    {
      "cell_type": "code",
      "source": [
        "print('Phython programming is enjoying')\n",
        "\n",
        "h=\"enjoying\"\n",
        "p=\"Phython Programming is \"\n",
        "print(\"Phython programming is \" +h)\n",
        "print(p+\"\"+\"\"+h)"
      ],
      "metadata": {
        "colab": {
          "base_uri": "https://localhost:8080/"
        },
        "id": "vTh1t7AVORjP",
        "outputId": "ca5ccbe5-26d1-47b1-f458-a39c19dbb734"
      },
      "execution_count": null,
      "outputs": [
        {
          "output_type": "stream",
          "name": "stdout",
          "text": [
            "Phython programming is enjoying\n",
            "Phython programming is enjoying\n",
            "Phython Programming is enjoying\n"
          ]
        }
      ]
    },
    {
      "cell_type": "markdown",
      "source": [
        "Arithmetic Operations"
      ],
      "metadata": {
        "id": "OgWEO2GyQB56"
      }
    },
    {
      "cell_type": "code",
      "source": [
        "print(c+d) #c=2, d=4\n",
        "print(d-c)\n",
        "print(d*c)\n",
        "print(int(d/c))\n",
        "print(d%c)\n",
        "print(3/2) #1.50\n",
        "print(d**c)\n"
      ],
      "metadata": {
        "colab": {
          "base_uri": "https://localhost:8080/"
        },
        "id": "gku516zgQE-B",
        "outputId": "9f1c1031-5312-4a21-a71a-b27da56d9828"
      },
      "execution_count": null,
      "outputs": [
        {
          "output_type": "stream",
          "name": "stdout",
          "text": [
            "6\n",
            "2\n",
            "8\n",
            "2\n",
            "0\n",
            "1.5\n",
            "16\n"
          ]
        }
      ]
    },
    {
      "cell_type": "markdown",
      "source": [
        "Assignment Operators"
      ],
      "metadata": {
        "id": "BPnV_7AnQ8dK"
      }
    },
    {
      "cell_type": "code",
      "source": [
        "\n",
        "q+=5#same as q=q+5\n",
        "\n",
        "print(q) #same as q=q+5, q=10+5=15"
      ],
      "metadata": {
        "colab": {
          "base_uri": "https://localhost:8080/"
        },
        "id": "ZHpFA-H4RBpR",
        "outputId": "2e3d564f-6690-42db-b58f-382ec9340677"
      },
      "execution_count": null,
      "outputs": [
        {
          "output_type": "stream",
          "name": "stdout",
          "text": [
            "15\n"
          ]
        }
      ]
    },
    {
      "cell_type": "markdown",
      "source": [
        "Boclean logic"
      ],
      "metadata": {
        "id": "GW11UkhnR07y"
      }
    },
    {
      "cell_type": "code",
      "source": [
        "s=10\n",
        "print(s^2)\n",
        "print(s|2)"
      ],
      "metadata": {
        "colab": {
          "base_uri": "https://localhost:8080/"
        },
        "id": "ChJ-93VPR3eP",
        "outputId": "3ccc19ac-7644-4d30-bdad-053f6bda8550"
      },
      "execution_count": null,
      "outputs": [
        {
          "output_type": "stream",
          "name": "stdout",
          "text": [
            "8\n",
            "10\n"
          ]
        }
      ]
    },
    {
      "cell_type": "markdown",
      "source": [
        "Comparison Operators"
      ],
      "metadata": {
        "id": "X7T0i4PQTBlS"
      }
    },
    {
      "cell_type": "code",
      "source": [
        "print(s>q)\n",
        "print(s==s)\n",
        "print(q==q)"
      ],
      "metadata": {
        "colab": {
          "base_uri": "https://localhost:8080/"
        },
        "id": "Tb7GennmTDUu",
        "outputId": "62620f7d-5684-4d31-d9b8-174baa151469"
      },
      "execution_count": null,
      "outputs": [
        {
          "output_type": "stream",
          "name": "stdout",
          "text": [
            "False\n",
            "True\n",
            "True\n"
          ]
        }
      ]
    },
    {
      "cell_type": "markdown",
      "source": [
        "Logical Operators"
      ],
      "metadata": {
        "id": "UlmbMeg8Txq4"
      }
    },
    {
      "cell_type": "code",
      "source": [
        "s>q and s==s\n",
        "s>q or s==s"
      ],
      "metadata": {
        "colab": {
          "base_uri": "https://localhost:8080/"
        },
        "id": "_w9TNQ0aTwBA",
        "outputId": "e0e06d69-d4a7-4038-8573-accd5b6c6bd0"
      },
      "execution_count": null,
      "outputs": [
        {
          "output_type": "execute_result",
          "data": {
            "text/plain": [
              "True"
            ]
          },
          "metadata": {},
          "execution_count": 43
        }
      ]
    },
    {
      "cell_type": "code",
      "source": [
        ""
      ],
      "metadata": {
        "id": "zAB1dU5eT34N"
      },
      "execution_count": null,
      "outputs": []
    }
  ]
}