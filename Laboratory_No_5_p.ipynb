{
  "nbformat": 4,
  "nbformat_minor": 0,
  "metadata": {
    "colab": {
      "name": "Laboratory_No_5.p",
      "provenance": [],
      "authorship_tag": "ABX9TyMHRKk5vKsIPf/4K3K7lmXk",
      "include_colab_link": true
    },
    "kernelspec": {
      "name": "python3",
      "display_name": "Python 3"
    },
    "language_info": {
      "name": "python"
    }
  },
  "cells": [
    {
      "cell_type": "markdown",
      "metadata": {
        "id": "view-in-github",
        "colab_type": "text"
      },
      "source": [
        "<a href=\"https://colab.research.google.com/github/kcisidro/OOP-58002/blob/main/Laboratory_No_5_p.ipynb\" target=\"_parent\"><img src=\"https://colab.research.google.com/assets/colab-badge.svg\" alt=\"Open In Colab\"/></a>"
      ]
    },
    {
      "cell_type": "markdown",
      "source": [
        "#Syndicate"
      ],
      "metadata": {
        "id": "xhElPK5Whp4X"
      }
    },
    {
      "cell_type": "markdown",
      "source": [
        "Label"
      ],
      "metadata": {
        "id": "s5L7FAEkhvn0"
      }
    },
    {
      "cell_type": "code",
      "source": [
        "from tkinter import *\n",
        "from tkinter import ttk\n",
        "win = Tk()\n",
        "win.geometry(\"300x200+10+20\")\n",
        "win.title(\"Label\")\n",
        "\n",
        "lbl1 = Label(win,text = \"Laboratory Activity 5\")\n",
        "lbl1.place(x=80, y=60)\n",
        "lbl2 = Label(win, text=\"Submitted to: Mam Sayo\")\n",
        "lbl2.place(x=70, y=80)\n",
        "win.mainloop()"
      ],
      "metadata": {
        "id": "jyXBVMc7hpiU"
      },
      "execution_count": null,
      "outputs": []
    },
    {
      "cell_type": "markdown",
      "source": [
        "Text Field"
      ],
      "metadata": {
        "id": "Dhka2cTOiEbF"
      }
    },
    {
      "cell_type": "code",
      "source": [
        "from tkinter import *\n",
        "from tkinter import ttk\n",
        "win = Tk()\n",
        "win.geometry(\"300x200+10+20\")\n",
        "win.title(\"Text Field\")\n",
        "\n",
        "txt = Text(win, width=24, height=3, font=(\"Arial\", 10), bd=2)\n",
        "txt.insert(END, \"\\nThis is where I type my text\")\n",
        "txt.place(x=80, y=20)\n",
        "\n",
        "win.mainloop()"
      ],
      "metadata": {
        "id": "1AOf6-g1hpa0"
      },
      "execution_count": null,
      "outputs": []
    },
    {
      "cell_type": "markdown",
      "source": [
        "Father of Computer"
      ],
      "metadata": {
        "id": "TFLU8jGgiJus"
      }
    },
    {
      "cell_type": "code",
      "source": [
        "from tkinter import *\n",
        "from tkinter import ttk\n",
        "win = Tk()\n",
        "win.geometry(\"300x200+10+20\")\n",
        "win.title(\"Father of Computer\")\n",
        "\n",
        "lbl1 = Label(win, text=\"Charles Babbage\", bg=\"cyan\", font=(\"Arial\", 25))\n",
        "lbl1.place(x=25, y=60)\n",
        "win.mainloop()"
      ],
      "metadata": {
        "id": "5Ncd2tIWhpQM"
      },
      "execution_count": null,
      "outputs": []
    },
    {
      "cell_type": "markdown",
      "source": [
        "Major Subjects"
      ],
      "metadata": {
        "id": "qS32QYUciO8b"
      }
    },
    {
      "cell_type": "code",
      "source": [
        "from tkinter import *\n",
        "from tkinter import ttk\n",
        "win = Tk()\n",
        "win.geometry(\"300x200+10+20\")\n",
        "win.title(\"Major Subjects\")\n",
        "\n",
        "listbox = Listbox(win, height=5, selectmode='multiple')\n",
        "data = \"reading\"\n",
        "data1 = \"writing\"\n",
        "data2 = \"arithmetic\"\n",
        "data3 = \"coding\"\n",
        "\n",
        "listbox.insert(END,data)\n",
        "listbox.insert(END, data1)\n",
        "listbox.insert(END, data2)\n",
        "listbox.insert(END, data3)\n",
        "listbox.place(x=80, y = 50)\n",
        "\n",
        "\n",
        "win.mainloop()"
      ],
      "metadata": {
        "id": "t1YubOpHhoy8"
      },
      "execution_count": null,
      "outputs": []
    },
    {
      "cell_type": "markdown",
      "source": [
        "Button"
      ],
      "metadata": {
        "id": "WWfMV7gIiRyL"
      }
    },
    {
      "cell_type": "code",
      "source": [
        "from tkinter import *\n",
        "from tkinter import ttk\n",
        "def ChangeColor(): btn1.configure(bg=\"yellow\")\n",
        "win = Tk()\n",
        "win.geometry(\"300x200+10+20\")\n",
        "win.title(\"Button\")\n",
        "\n",
        "btn1 = Button(win, text=\"color\", bg=\"blue\", fg=\"red\", command=ChangeColor)\n",
        "btn1.place(x=30, y=90)\n",
        "btn2 = Button(win, text=\"<--- click to change the color of the button\")\n",
        "btn2.place(x=90, y=90)\n",
        "\n",
        "\n",
        "win.mainloop()"
      ],
      "metadata": {
        "id": "fY9ImE7EiSHj"
      },
      "execution_count": null,
      "outputs": []
    }
  ]
}